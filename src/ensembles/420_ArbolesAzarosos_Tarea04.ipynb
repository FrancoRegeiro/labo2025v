{
  "nbformat": 4,
  "nbformat_minor": 0,
  "metadata": {
    "colab": {
      "provenance": [],
      "include_colab_link": true
    },
    "kernelspec": {
      "name": "ir",
      "display_name": "R"
    },
    "language_info": {
      "name": "R"
    }
  },
  "cells": [
    {
      "cell_type": "markdown",
      "metadata": {
        "id": "view-in-github",
        "colab_type": "text"
      },
      "source": [
        "<a href=\"https://colab.research.google.com/github/FrancoRegeiro/labo2025v/blob/main/src/ensembles/420_ArbolesAzarosos_Tarea04.ipynb\" target=\"_parent\"><img src=\"https://colab.research.google.com/assets/colab-badge.svg\" alt=\"Open In Colab\"/></a>"
      ]
    },
    {
      "cell_type": "markdown",
      "source": [
        "# 4. Ensembles de Arboles de Decision"
      ],
      "metadata": {
        "id": "kgJ0E--L0n9s"
      }
    },
    {
      "cell_type": "markdown",
      "source": [
        "Un arbol de decisión es un modelo débil, el aumento del poder predictivo proviene al ensamblar varios arboles de decisión.\n",
        "<br> Si promedio n arboles identicos, el resultados es exactamente el mismo que utilizar un solo arbol, necesito PERTURBAR cada arbol para disponer de variablidad"
      ],
      "metadata": {
        "id": "PgLdmWznXWGZ"
      }
    },
    {
      "cell_type": "markdown",
      "source": [
        "la variabilidad provendrá de estas fuentes:\n",
        "\n",
        "\n",
        "*   Perturbar el dataset\n",
        "*   Perturbar el algoritmo del arbol\n",
        "*   Perturbar el dataset y el algoritmo del arbol al mismo tiempo"
      ],
      "metadata": {
        "id": "FTnxMEOqYRXZ"
      }
    },
    {
      "cell_type": "markdown",
      "source": [
        "Se verán estos tres algoritmos\n",
        "\n",
        "\n",
        "*   Arboles Azarosos\n",
        "*   Random Forest\n",
        "*   Gradient Boosting of Decision Trees"
      ],
      "metadata": {
        "id": "DHp1h9m-X7Rc"
      }
    },
    {
      "cell_type": "markdown",
      "metadata": {
        "id": "3m0ySYPfa7Zr"
      },
      "source": [
        "#### 4.01 Seteo del ambiente en Google Colab"
      ]
    },
    {
      "cell_type": "markdown",
      "metadata": {
        "id": "NGY7H9xza7Zr"
      },
      "source": [
        "Esta parte se debe correr con el runtime en Python3\n",
        "<br>Ir al menu, Runtime -> Change Runtime Type -> Runtime type ->  **Python 3**"
      ]
    },
    {
      "cell_type": "markdown",
      "metadata": {
        "id": "7PupIBNba7Zr"
      },
      "source": [
        "Conectar la virtual machine donde esta corriendo Google Colab con el  Google Drive, para poder tener persistencia de archivos"
      ]
    },
    {
      "cell_type": "code",
      "execution_count": 1,
      "metadata": {
        "id": "9LpZCst5a7Zs",
        "outputId": "87c2ed50-f5f2-4877-fb8f-565ddae7b672",
        "colab": {
          "base_uri": "https://localhost:8080/"
        }
      },
      "outputs": [
        {
          "output_type": "stream",
          "name": "stdout",
          "text": [
            "Mounted at /content/.drive\n"
          ]
        }
      ],
      "source": [
        "# primero establecer el Runtime de Python 3\n",
        "from google.colab import drive\n",
        "drive.mount('/content/.drive')"
      ]
    },
    {
      "cell_type": "markdown",
      "metadata": {
        "id": "JYC_F-wla7Zs"
      },
      "source": [
        "Para correr la siguiente celda es fundamental en Arranque en Frio haber copiado el archivo kaggle.json al Google Drive, en la carpeta indicada en el instructivo\n",
        "\n",
        "<br>los siguientes comando estan en shell script de Linux\n",
        "*   Crear las carpetas en el Google Drive\n",
        "*   \"instalar\" el archivo kaggle.json desde el Google Drive a la virtual machine para que pueda ser utilizado por la libreria  kaggle de Python\n",
        "*   Bajar el  **dataset_pequeno**  al  Google Drive  y tambien al disco local de la virtual machine que esta corriendo Google Colab\n",
        "\n"
      ]
    },
    {
      "cell_type": "code",
      "execution_count": 2,
      "metadata": {
        "id": "XWLelftXa7Zt",
        "outputId": "8dd9819a-cf62-4671-bc80-957ad2a4490c",
        "colab": {
          "base_uri": "https://localhost:8080/"
        }
      },
      "outputs": [
        {
          "output_type": "execute_result",
          "data": {
            "text/plain": []
          },
          "metadata": {},
          "execution_count": 2
        }
      ],
      "source": [
        "%%shell\n",
        "\n",
        "mkdir -p \"/content/.drive/My Drive/labo1\"\n",
        "mkdir -p \"/content/buckets\"\n",
        "ln -s \"/content/.drive/My Drive/labo1\" /content/buckets/b1\n",
        "\n",
        "mkdir -p ~/.kaggle\n",
        "cp /content/buckets/b1/kaggle/kaggle.json  ~/.kaggle\n",
        "chmod 600 ~/.kaggle/kaggle.json\n",
        "\n",
        "\n",
        "mkdir -p /content/buckets/b1/exp\n",
        "mkdir -p /content/buckets/b1/datasets\n",
        "mkdir -p /content/datasets\n",
        "\n",
        "\n",
        "\n",
        "archivo_origen=\"https://storage.googleapis.com/open-courses/austral2025-af91/dataset_pequeno.csv\"\n",
        "archivo_destino=\"/content/datasets/dataset_pequeno.csv\"\n",
        "archivo_destino_bucket=\"/content/buckets/b1/datasets/dataset_pequeno.csv\"\n",
        "\n",
        "if ! test -f $archivo_destino_bucket; then\n",
        "  wget  $archivo_origen  -O $archivo_destino_bucket\n",
        "fi\n",
        "\n",
        "\n",
        "if ! test -f $archivo_destino; then\n",
        "  cp  $archivo_destino_bucket  $archivo_destino\n",
        "fi"
      ]
    },
    {
      "cell_type": "markdown",
      "metadata": {
        "id": "Pc9x9DnsNlZv"
      },
      "source": [
        "\n",
        "\n",
        "---\n",
        "\n"
      ]
    },
    {
      "cell_type": "markdown",
      "source": [
        "## 4.02 Arboles Azarosos"
      ],
      "metadata": {
        "id": "qq0KVOtq1K5D"
      }
    },
    {
      "cell_type": "markdown",
      "source": [
        "Arboles Azarosos es el nombre de un algoritmo trivial (por favor NO confundir con Random Forest)\n",
        "Qué tipo de perturbaciones se realizan en Arboles Azarosos\n",
        "* Se perturba el dataset\n",
        "* No se perturba el algoritmo, es siempre rpart original"
      ],
      "metadata": {
        "id": "HsNJjhlRo9jM"
      }
    },
    {
      "cell_type": "markdown",
      "source": [
        "Cada  arbolito de  Arboles Azarosos se entrena sobre un dataset perturbado,  que tiene exactamente la misma cantidad de registros pero solo un subconjunto de los atributos (campos)  del dataset, tomados al azar, de los originales.\n",
        "<br> En esta primera corrida, se construira cada arbol en un dataset utilizando el 50% de los campos"
      ],
      "metadata": {
        "id": "rq2HC28CpXBR"
      }
    },
    {
      "cell_type": "markdown",
      "metadata": {
        "id": "eSU5vi00CPRS"
      },
      "source": [
        "Esta parte se debe correr con el runtime en lenguaje **R** Ir al menu, Runtime -> Change Runtime Type -> Runtime type -> R"
      ]
    },
    {
      "cell_type": "markdown",
      "metadata": {
        "id": "Zq8dySimCPRT"
      },
      "source": [
        "limpio el ambiente de R"
      ]
    },
    {
      "cell_type": "code",
      "source": [
        "format(Sys.time(), \"%a %b %d %X %Y\")"
      ],
      "metadata": {
        "id": "LrdtraBYJrsx",
        "outputId": "54c2706f-53b9-40f9-a0b8-e5473a7e7ba8",
        "colab": {
          "base_uri": "https://localhost:8080/",
          "height": 34
        }
      },
      "execution_count": 1,
      "outputs": [
        {
          "output_type": "display_data",
          "data": {
            "text/html": [
              "'Sun Oct 26 11:54:26 PM 2025'"
            ],
            "text/markdown": "'Sun Oct 26 11:54:26 PM 2025'",
            "text/latex": "'Sun Oct 26 11:54:26 PM 2025'",
            "text/plain": [
              "[1] \"Sun Oct 26 11:54:26 PM 2025\""
            ]
          },
          "metadata": {}
        }
      ]
    },
    {
      "cell_type": "code",
      "execution_count": 2,
      "metadata": {
        "id": "1iE0U4_WCPRT",
        "outputId": "3d798eff-f85d-43d9-b250-5dbd86564062",
        "colab": {
          "base_uri": "https://localhost:8080/",
          "height": 129
        }
      },
      "outputs": [
        {
          "output_type": "display_data",
          "data": {
            "text/html": [
              "<table class=\"dataframe\">\n",
              "<caption>A matrix: 2 × 6 of type dbl</caption>\n",
              "<thead>\n",
              "\t<tr><th></th><th scope=col>used</th><th scope=col>(Mb)</th><th scope=col>gc trigger</th><th scope=col>(Mb)</th><th scope=col>max used</th><th scope=col>(Mb)</th></tr>\n",
              "</thead>\n",
              "<tbody>\n",
              "\t<tr><th scope=row>Ncells</th><td> 660381</td><td>35.3</td><td>1454465</td><td>77.7</td><td>1454465</td><td>77.7</td></tr>\n",
              "\t<tr><th scope=row>Vcells</th><td>1226627</td><td> 9.4</td><td>8388608</td><td>64.0</td><td>1975128</td><td>15.1</td></tr>\n",
              "</tbody>\n",
              "</table>\n"
            ],
            "text/markdown": "\nA matrix: 2 × 6 of type dbl\n\n| <!--/--> | used | (Mb) | gc trigger | (Mb) | max used | (Mb) |\n|---|---|---|---|---|---|---|\n| Ncells |  660381 | 35.3 | 1454465 | 77.7 | 1454465 | 77.7 |\n| Vcells | 1226627 |  9.4 | 8388608 | 64.0 | 1975128 | 15.1 |\n\n",
            "text/latex": "A matrix: 2 × 6 of type dbl\n\\begin{tabular}{r|llllll}\n  & used & (Mb) & gc trigger & (Mb) & max used & (Mb)\\\\\n\\hline\n\tNcells &  660381 & 35.3 & 1454465 & 77.7 & 1454465 & 77.7\\\\\n\tVcells & 1226627 &  9.4 & 8388608 & 64.0 & 1975128 & 15.1\\\\\n\\end{tabular}\n",
            "text/plain": [
              "       used    (Mb) gc trigger (Mb) max used (Mb)\n",
              "Ncells  660381 35.3 1454465    77.7 1454465  77.7\n",
              "Vcells 1226627  9.4 8388608    64.0 1975128  15.1"
            ]
          },
          "metadata": {}
        }
      ],
      "source": [
        "# limpio la memoria\n",
        "rm(list=ls(all.names=TRUE)) # remove all objects\n",
        "gc(full=TRUE, verbose=FALSE) # garbage collection"
      ]
    },
    {
      "cell_type": "code",
      "execution_count": 3,
      "metadata": {
        "id": "BJDwdD0dCPRU",
        "outputId": "74863c3f-ef01-47c6-ed20-dd25649e7a8b",
        "colab": {
          "base_uri": "https://localhost:8080/"
        }
      },
      "outputs": [
        {
          "output_type": "stream",
          "name": "stderr",
          "text": [
            "Loading required package: data.table\n",
            "\n",
            "Loading required package: rpart\n",
            "\n"
          ]
        }
      ],
      "source": [
        "# cargo las librerias que necesito\n",
        "require(\"data.table\")\n",
        "require(\"rpart\")"
      ]
    },
    {
      "cell_type": "markdown",
      "source": [
        "Aqui debe cargar SU semilla primigenia"
      ],
      "metadata": {
        "id": "M8-Pyp6CCPRU"
      }
    },
    {
      "cell_type": "code",
      "source": [
        "PARAM <- list()\n",
        "PARAM$semilla_primigenia <- 100019\n",
        "\n",
        "# parametros  arbol\n",
        "#  por ahora, es fijo\n",
        "# entreno cada arbol con solo 50% de las variables\n",
        "PARAM$feature_fraction <- 0.5\n",
        "\n",
        "# (valores iniciales; luego se van a SOBREESCRIBIR con el mejor grid)\n",
        "PARAM$rpart$cp        <- -0.399551040428277\n",
        "PARAM$rpart$minsplit  <- 7070\n",
        "PARAM$rpart$minbucket <- 1135\n",
        "PARAM$rpart$maxdepth  <- 19\n",
        "\n",
        "# fijar ensemble en 32 arboles\n",
        "PARAM$num_trees_max <- 32"
      ],
      "metadata": {
        "id": "peRH7ySLCPRV"
      },
      "execution_count": 4,
      "outputs": []
    },
    {
      "cell_type": "code",
      "source": [
        "# carpeta de trabajo\n",
        "setwd(\"/content/buckets/b1/exp\")\n",
        "experimento <- \"exp4020_tarea04\"\n",
        "dir.create(experimento, showWarnings=FALSE)\n",
        "setwd( paste0(\"/content/buckets/b1/exp/\", experimento ))"
      ],
      "metadata": {
        "id": "1gZD6ZMvCPRV",
        "outputId": "bb431e9f-b191-4e5b-ce99-8609de0e04e9",
        "colab": {
          "base_uri": "https://localhost:8080/",
          "height": 240
        }
      },
      "execution_count": 5,
      "outputs": [
        {
          "output_type": "error",
          "ename": "ERROR",
          "evalue": "Error in setwd(\"/content/buckets/b1/exp\"): cannot change working directory\n",
          "traceback": [
            "Error in setwd(\"/content/buckets/b1/exp\"): cannot change working directory\nTraceback:\n",
            "1. .handleSimpleError(function (cnd) \n . {\n .     watcher$capture_plot_and_output()\n .     cnd <- sanitize_call(cnd)\n .     watcher$push(cnd)\n .     switch(on_error, continue = invokeRestart(\"eval_continue\"), \n .         stop = invokeRestart(\"eval_stop\"), error = NULL)\n . }, \"cannot change working directory\", base::quote(setwd(\"/content/buckets/b1/exp\")))"
          ]
        }
      ]
    },
    {
      "cell_type": "code",
      "source": [
        "# lectura del dataset\n",
        "dataset <- fread(\"/content/datasets/dataset_pequeno.csv\")"
      ],
      "metadata": {
        "id": "Xi0emX2ECPRV"
      },
      "execution_count": null,
      "outputs": []
    },
    {
      "cell_type": "code",
      "source": [
        "# defino los dataset de entrenamiento y aplicacion\n",
        "dtrain <- dataset[foto_mes == 202107]\n",
        "dfuture <- dataset[foto_mes == 202109]\n",
        "\n",
        "# arreglo clase_ternaria por algun distraido \"\"\n",
        "dfuture[, clase_ternaria := NA ]"
      ],
      "metadata": {
        "id": "RA3cSJ6KaGwA"
      },
      "execution_count": null,
      "outputs": []
    },
    {
      "cell_type": "code",
      "source": [
        "# Establezco cuales son los campos que puedo usar para la prediccion\n",
        "# el copy() es por la Lazy Evaluation\n",
        "campos_buenos <- copy(setdiff(colnames(dtrain), c(\"clase_ternaria\")))"
      ],
      "metadata": {
        "id": "EByLkVMwaC8K"
      },
      "execution_count": null,
      "outputs": []
    },
    {
      "cell_type": "code",
      "source": [
        "# ===================== VALIDACION: elegir hiperparametros del ensemble (32 arboles) =====================\n",
        "\n",
        "# 2.1 funciones auxiliares\n",
        "particionar <- function(data, division, agrupa = \"\", campo = \"fold\", start = 1, seed = NA) {\n",
        "  if (!is.na(seed)) set.seed(seed)\n",
        "  bloque <- unlist(mapply(function(x, y) rep(y, x), division, seq(from = start, length.out = length(division))))\n",
        "  data[, (campo) := sample(rep(bloque, ceiling(.N / length(bloque))))[1:.N], by = agrupa]\n",
        "}\n",
        "\n",
        "ganancia_por_prob <- function(prob_baja2, clase) {\n",
        "  pred <- as.integer(prob_baja2 > 0.025)\n",
        "  sum(ifelse(pred == 1, ifelse(clase == \"BAJA+2\", 117000, -3000), 0))\n",
        "}\n",
        "\n",
        "ensemble_prob <- function(dtrain_sub, dtest_sub, ntrees, feature_fraction, rpart_control, seed) {\n",
        "  set.seed(seed)\n",
        "  campos_buenos_local <- setdiff(colnames(dtrain_sub), \"clase_ternaria\")\n",
        "  qty_campos <- max(1L, as.integer(length(campos_buenos_local) * feature_fraction))\n",
        "  prob_acum <- numeric(nrow(dtest_sub))\n",
        "\n",
        "  for (k in seq_len(ntrees)) {\n",
        "    cols_k <- sample(campos_buenos_local, qty_campos)\n",
        "    formulita <- paste0(\"clase_ternaria ~ \", paste(cols_k, collapse = \" + \"))\n",
        "    modelo <- rpart(formulita, data = dtrain_sub, xval = 0, control = rpart_control)\n",
        "    pred   <- predict(modelo, dtest_sub, type = \"prob\")[, \"BAJA+2\"]\n",
        "    prob_acum <- prob_acum + pred\n",
        "  }\n",
        "  prob_acum / ntrees\n",
        "}\n",
        "\n",
        "# 2.2 particion en dtrain (70/30 estratificada)\n",
        "dtrain_local <- copy(dtrain)\n",
        "particionar(dtrain_local, division = c(70,30), agrupa = \"clase_ternaria\", seed = PARAM$semilla_primigenia)\n",
        "\n",
        "# 2.3 mini-grid para el ensemble de 32\n",
        "grid_cp        <- c(-0.5, -0.1)\n",
        "grid_maxdepth  <- c(6, 8)\n",
        "grid_minsplit  <- c(800, 600)\n",
        "grid_featfrac  <- c(0.5)\n",
        "\n",
        "bucket_from_minsplit <- function(ms) unique(pmax(5L, c(floor(ms/8), floor(ms/6), floor(ms/4))))\n",
        "\n",
        "# 2.4 busqueda (medimos ganancia en fold==2)\n",
        "tb_res <- data.table(cp=double(), maxdepth=integer(), minsplit=integer(),\n",
        "                     minbucket=integer(), feature_fraction=double(), ganancia=double())\n",
        "\n",
        "for (vcp in grid_cp) for (vd in grid_maxdepth) for (vms in grid_minsplit) for (vf in grid_featfrac) {\n",
        "  for (vb in bucket_from_minsplit(vms)) {\n",
        "    rctl <- list(cp=vcp, maxdepth=vd, minsplit=vms, minbucket=vb)\n",
        "    prob <- ensemble_prob(\n",
        "      dtrain_sub = dtrain_local[fold==1],\n",
        "      dtest_sub  = dtrain_local[fold==2],\n",
        "      ntrees = PARAM$num_trees_max,      # 32 arboles\n",
        "      feature_fraction = vf,\n",
        "      rpart_control = rctl,\n",
        "      seed = PARAM$semilla_primigenia\n",
        "    )\n",
        "    gan <- ganancia_por_prob(prob, dtrain_local[fold==2]$clase_ternaria)\n",
        "    tb_res <- rbind(tb_res, data.table(cp=vcp, maxdepth=vd, minsplit=vms,\n",
        "                                       minbucket=vb, feature_fraction=vf, ganancia=gan))\n",
        "  }\n",
        "}\n",
        "\n",
        "setorder(tb_res, -ganancia)\n",
        "best_ensemble <- tb_res[1]   # mejores hiperparámetros para el ensemble de 32\n",
        "print(best_ensemble)\n",
        "\n",
        "# 2.5 pisamos PARAM con lo mejor encontrado\n",
        "PARAM$rpart$cp        <- best_ensemble$cp\n",
        "PARAM$rpart$minsplit  <- best_ensemble$minsplit\n",
        "PARAM$rpart$minbucket <- best_ensemble$minbucket\n",
        "PARAM$rpart$maxdepth  <- best_ensemble$maxdepth\n",
        "PARAM$feature_fraction <- best_ensemble$feature_fraction\n",
        "# =======================================================================================================\n"
      ],
      "metadata": {
        "id": "ee_nNgsuUZL-",
        "outputId": "7d2dd9a4-5e38-43c5-95f8-b3005a0da3e4",
        "colab": {
          "base_uri": "https://localhost:8080/"
        }
      },
      "execution_count": null,
      "outputs": [
        {
          "output_type": "stream",
          "name": "stdout",
          "text": [
            "      cp maxdepth minsplit minbucket feature_fraction ganancia\n",
            "   <num>    <num>    <num>     <num>            <num>    <num>\n",
            "1:  -0.5        8      800       133              0.5 16287000\n"
          ]
        }
      ]
    },
    {
      "cell_type": "code",
      "source": [
        "# que tamanos de ensemble grabo a disco\n",
        "grabar <- c(32)"
      ],
      "metadata": {
        "id": "rHMrHwwpaB8D"
      },
      "execution_count": null,
      "outputs": []
    },
    {
      "cell_type": "code",
      "source": [
        "tb_prediccion <- dfuture[, list(numero_de_cliente)]\n",
        "# aqui se va acumulando la probabilidad del ensemble\n",
        "tb_prediccion[, prob_acumulada := 0]"
      ],
      "metadata": {
        "id": "bJHS2aeghw6I"
      },
      "execution_count": null,
      "outputs": []
    },
    {
      "cell_type": "code",
      "source": [
        "set.seed(PARAM$semilla_primigenia) # Establezco la semilla aleatoria"
      ],
      "metadata": {
        "id": "H_DGUB_fhzHr"
      },
      "execution_count": null,
      "outputs": []
    },
    {
      "cell_type": "code",
      "source": [
        "for (arbolito in seq(PARAM$num_trees_max) ) {\n",
        "  message( arbolito, \" \")\n",
        "  qty_campos_a_utilizar <- as.integer(length(campos_buenos)\n",
        "    * PARAM$feature_fraction)\n",
        "\n",
        "  # elijo los campos al azar\n",
        "  campos_random <- sample(campos_buenos, qty_campos_a_utilizar)\n",
        "\n",
        "  # paso de un vector a un string con los elementos\n",
        "  # separados por un signo de \"+\"\n",
        "  # este hace falta para la formula\n",
        "  campos_random <- paste(campos_random, collapse= \" + \")\n",
        "\n",
        "  # armo la formula para rpart\n",
        "  formulita <- paste0(\"clase_ternaria ~ \", campos_random)\n",
        "\n",
        "  # genero el arbol de decision\n",
        "  modelo <- rpart(formulita,\n",
        "    data= dtrain,\n",
        "    xval= 0,\n",
        "    control= PARAM$rpart\n",
        "  )\n",
        "\n",
        "  # aplico el modelo a los datos que no tienen clase\n",
        "  prediccion <- predict(modelo, dfuture, type= \"prob\")\n",
        "\n",
        "  tb_prediccion[, prob_acumulada := prob_acumulada + prediccion[, \"BAJA+2\"]]\n",
        "\n",
        "  if (arbolito %in% grabar) {\n",
        "    umbral_corte <- (1 / 40) * arbolito\n",
        "    tb_prediccion[, Predicted := as.numeric(prob_acumulada > umbral_corte)]\n",
        "\n",
        "    archivo_kaggle <- paste0(\n",
        "        \"KA420_\",\n",
        "        sprintf(\"%.3d\", arbolito), # para que tenga ceros adelante\n",
        "        \".csv\"\n",
        "      )\n",
        "\n",
        "    # grabo el archivo\n",
        "    fwrite( tb_prediccion[, list(numero_de_cliente, Predicted)],\n",
        "      file= archivo_kaggle,\n",
        "      sep= \",\"\n",
        "    )\n",
        "\n",
        "    # subida a Kaggle\n",
        "    comando <- \"kaggle competitions submit\"\n",
        "    competencia <- \"-c   labo-i-2025-virtual-analista-sr\"\n",
        "    arch <- paste( \"-f\", archivo_kaggle)\n",
        "\n",
        "    mensaje <- paste0(\"-m 'cp=\", PARAM$rpart$cp, \"  minsplit=\", PARAM$rpart$minsplit, \"  minbucket=\", PARAM$rpart$minbucket, \" maxdepth=\", PARAM$rpart$maxdepth, \"'\" )\n",
        "    linea <- paste( comando, competencia, arch, mensaje)\n",
        "    salida <- system(linea, intern=TRUE)\n",
        "    cat(salida)\n",
        "  }\n",
        "}\n"
      ],
      "metadata": {
        "id": "j-xp2HQDhFmY",
        "outputId": "1ea20b2e-59dc-4361-e2d8-e0a59697845c",
        "colab": {
          "base_uri": "https://localhost:8080/"
        }
      },
      "execution_count": null,
      "outputs": [
        {
          "output_type": "stream",
          "name": "stderr",
          "text": [
            "1 \n",
            "\n",
            "2 \n",
            "\n",
            "3 \n",
            "\n",
            "4 \n",
            "\n",
            "5 \n",
            "\n",
            "6 \n",
            "\n",
            "7 \n",
            "\n",
            "8 \n",
            "\n",
            "9 \n",
            "\n",
            "10 \n",
            "\n",
            "11 \n",
            "\n",
            "12 \n",
            "\n",
            "13 \n",
            "\n",
            "14 \n",
            "\n",
            "15 \n",
            "\n",
            "16 \n",
            "\n",
            "17 \n",
            "\n",
            "18 \n",
            "\n",
            "19 \n",
            "\n",
            "20 \n",
            "\n",
            "21 \n",
            "\n",
            "22 \n",
            "\n",
            "23 \n",
            "\n",
            "24 \n",
            "\n",
            "25 \n",
            "\n",
            "26 \n",
            "\n",
            "27 \n",
            "\n",
            "28 \n",
            "\n",
            "29 \n",
            "\n",
            "30 \n",
            "\n",
            "31 \n",
            "\n",
            "32 \n",
            "\n"
          ]
        },
        {
          "output_type": "stream",
          "name": "stdout",
          "text": [
            "Successfully submitted to LaboI 2025 virtual analista sr"
          ]
        }
      ]
    },
    {
      "cell_type": "code",
      "source": [
        "format(Sys.time(), \"%a %b %d %X %Y\")"
      ],
      "metadata": {
        "id": "lgmvRHcfJpls",
        "outputId": "ceaed6fa-e65b-4689-cc0e-45d1570c8cf5",
        "colab": {
          "base_uri": "https://localhost:8080/",
          "height": 34
        }
      },
      "execution_count": null,
      "outputs": [
        {
          "output_type": "display_data",
          "data": {
            "text/html": [
              "'Sun Oct 26 07:28:06 PM 2025'"
            ],
            "text/markdown": "'Sun Oct 26 07:28:06 PM 2025'",
            "text/latex": "'Sun Oct 26 07:28:06 PM 2025'",
            "text/plain": [
              "[1] \"Sun Oct 26 07:28:06 PM 2025\""
            ]
          },
          "metadata": {}
        }
      ]
    },
    {
      "cell_type": "markdown",
      "metadata": {
        "id": "UMr6Z1enOyd3"
      },
      "source": [
        "\n",
        "\n",
        "---\n",
        "\n"
      ]
    }
  ]
}